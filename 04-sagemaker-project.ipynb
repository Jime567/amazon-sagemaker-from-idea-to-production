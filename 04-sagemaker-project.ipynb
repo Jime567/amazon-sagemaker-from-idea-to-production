{
 "cells": [
  {
   "cell_type": "markdown",
   "id": "6eb825bb-e3c2-4838-b73c-528e1fc25735",
   "metadata": {},
   "source": [
    "# Step 4: Add a model building CI/CD pipeline\n",
    "\n",
    "In this step we create an automated CI/CD pipeline for model building using [Amazon SageMaker Projects](https://docs.aws.amazon.com/sagemaker/latest/dg/sagemaker-projects.html). \n",
    "\n",
    "![](img/six-steps-4.png)\n",
    "\n",
    "We use a [SageMaker-provided MLOPs project template for model building and training](https://docs.aws.amazon.com/sagemaker/latest/dg/sagemaker-projects-templates-sm.html#sagemaker-projects-templates-code-commit) to provision a ready-to use CI/CD workflow automation with [AWS CodePipeline](https://aws.amazon.com/codepipeline/) and an [AWS CodeCommit](https://aws.amazon.com/codecommit/) code repository.\n",
    "\n",
    "SageMaker project templates offer you the following choice of code repositories, workflow automation tools, and pipeline stages:\n",
    "- **Code repository**: AWS CodeCommit or third-party Git repositories such as GitHub and Bitbucket\n",
    "- **CI/CD workflow automation**: AWS CodePipeline or Jenkins\n",
    "- **Pipeline stages**: Model building and training, model deployment, or both"
   ]
  },
  {
   "cell_type": "code",
   "execution_count": 8,
   "id": "42102a0b-a706-43b3-9f23-59f7084123f1",
   "metadata": {},
   "outputs": [],
   "source": [
    "import boto3\n",
    "import sagemaker "
   ]
  },
  {
   "cell_type": "code",
   "execution_count": null,
   "id": "7c0dd762-ba2a-4141-b937-80cfccf98faf",
   "metadata": {},
   "outputs": [
    {
     "name": "stdout",
     "output_type": "stream",
     "text": [
      "Stored variables and their in-db values:\n",
      "abalone_dataset_file_name                -> 'abalone.csv'\n",
      "abalone_dataset_local_url                -> '../dataset/abalone.csv'\n",
      "auto_ml_job_name                         -> 'automl-asinproc-24-14-33-56'\n",
      "bucket_name                              -> 'sagemaker-us-east-1-906545278380'\n",
      "bucket_prefix                            -> 'from-idea-to-prod/xgboost'\n",
      "customers_count                          -> 10000\n",
      "customers_feature_group_name             -> 'fscw-customers-07-20-17-46'\n",
      "data_bucket                              -> 'sagemaker-us-east-1-906545278380'\n",
      "data_uploaded                            -> True\n",
      "domain_id                                -> 'd-r8pbvl3oamh6'\n",
      "dw_flow_file_url                         -> 's3://sagemaker-us-east-1-906545278380/feature-sto\n",
      "dw_output_name                           -> '928854ec-259e-4130-8e0f-b65221b27d6e.default'\n",
      "endpoint_name                            -> 'reorder-classifier-2022-07-20-19-45-09-338'\n",
      "execution_role                           -> 'arn:aws:iam::906545278380:role/service-role/Amazo\n",
      "feature_group_name                       -> 'FG-abalone-06-19-27-51-42ea2f48'\n",
      "freq                                     -> '2H'\n",
      "initialized                              -> True\n",
      "input_s3_url                             -> 's3://sagemaker-us-east-1-906545278380/from-idea-t\n",
      "orders_count                             -> 100000\n",
      "orders_feature_group_name                -> 'fscw-orders-07-20-17-46'\n",
      "output_s3_url                            -> 's3://sagemaker-us-east-1-906545278380/from-idea-t\n",
      "products_count                           -> 17001\n",
      "products_feature_group_name              -> 'fscw-products-07-20-17-46'\n",
      "project_prefix                           -> 'loan-defaults'\n",
      "query_string                             -> 'SELECT * FROM \"fscw-customers-07-20-17-46-1658339\n",
      "region                                   -> 'us-east-1'\n",
      "s3_data_output_prefix                    -> 's3://sagemaker-us-east-1-906545278380/loan-defaul\n",
      "s3_data_prefix                           -> 's3://sagemaker-us-east-1-906545278380/loan-defaul\n",
      "s3_flow_prefix                           -> 's3://sagemaker-us-east-1-906545278380/loan-defaul\n",
      "s3_fs_query_output_prefix                -> 'sagemaker-us-east-1-906545278380/feature-store-in\n",
      "s3_input_data_prefix                     -> 'sagemaker-us-east-1-906545278380/feature-store-in\n",
      "s3_path                                  -> 's3://sagemaker-us-east-1-906545278380/loan-defaul\n",
      "s3_path_data                             -> 's3://sagemaker-us-east-1-906545278380/loan-defaul\n",
      "s3_test                                  -> 's3://sagemaker-us-east-1-906545278380/loan-defaul\n",
      "s3_to_fs_pipeline_name                   -> 's3-fs-ingest-pipeline-p-iwfgodxukuoo'\n",
      "sm_role                                  -> 'arn:aws:iam::906545278380:role/service-role/Amazo\n",
      "target_col                               -> 'y'\n",
      "test_data_s3_path                        -> 's3://sagemaker-us-east-1-906545278380/asin/test/t\n",
      "training_jobName                         -> 'reorder-classifier-2022-07-20-19-38-33-550'\n",
      "tuning_job_name                          -> 'mlu-dl1-xgb-tuning-220125-1108'\n",
      "xgb_train_job_name                       -> 'loan-defaults-2022-04-28-11-22-01-124'\n"
     ]
    }
   ],
   "source": [
    "%store -r \n",
    "\n",
    "%store\n",
    "\n",
    "try:\n",
    "    initialized\n",
    "except NameError:\n",
    "    print(\"+++++++++++++++++++++++++++++++++++++++++++++++++\")\n",
    "    print(\"[ERROR] YOU HAVE TO RUN 00-start-here notebook   \")\n",
    "    print(\"+++++++++++++++++++++++++++++++++++++++++++++++++\")"
   ]
  },
  {
   "cell_type": "markdown",
   "id": "aaeaa68c-a2aa-4da5-8577-42d7dff2067a",
   "metadata": {},
   "source": [
    "## Create an MLOps project\n",
    "⭐ You can create a project programmatically in this notebooko (Option 1) or in Studio (Option 2). Option 1 is recommended as it requires no manual input. Option 2 is given to demostrate **Create Project** UX flow."
   ]
  },
  {
   "cell_type": "markdown",
   "id": "cd7061c4-b0f5-48a9-999c-1b0b84c8a4b9",
   "metadata": {},
   "source": [
    "### Option 1: Create project programmatically\n",
    "We use `boto3` to create an MLOps project via a SageMaker API."
   ]
  },
  {
   "cell_type": "markdown",
   "id": "7792b450-40ea-47f8-9449-528148ae43f5",
   "metadata": {},
   "source": [
    "### Option 2: Create a project in Studio\n",
    "<div class=\"alert alert-info\"> 💡 <strong> Skip this section if you created a project programmatically </strong>"
   ]
  },
  {
   "cell_type": "markdown",
   "id": "26a0bcfd-94e3-4892-8199-6ca06593c0af",
   "metadata": {},
   "source": [
    "To create a project in Studio:\n",
    "\n",
    "1. In the Studio sidebar, choose the **SageMaker resources** icon.\n",
    "2. Select **Projects** from the dropdown list.\n",
    "3. Choose **Create project**.\n",
    "    - The **Create project** tab opens displaying a list of available templates.\n",
    "4. For **SageMaker project templates**, choose **SageMaker templates**. \n",
    "5. Choose **MLOps template for model building and training**\n",
    "6. Choose **Select project template**.\n",
    "\n",
    "![](img/create-mlops-project.png)\n",
    "\n",
    "\n",
    "The **Create project** tab changes to display **Project details**.\n",
    "\n",
    "![](img/project-details.png)\n",
    "\n",
    "Enter the following information:\n",
    "- For **Project details**, enter a name and description for your project. Note the name requirements.\n",
    "- Optionally, add tags, which are key-value pairs that you can use to track your projects.\n",
    "\n",
    "Choose **Create project** and wait for the project to appear in the Projects list."
   ]
  },
  {
   "cell_type": "markdown",
   "id": "19f8a881-3e06-4497-8dce-e73dc6923ce4",
   "metadata": {},
   "source": [
    "❗ If you get an error message similar to:\n",
    "```\n",
    "Your project couldn't be created\n",
    "Studio encountered an error when creating your project. Try recreating the project again.\n",
    "\n",
    "CodeBuild is not authorized to perform: sts:AssumeRole on arn:aws:iam::XXXX:role/service-role/AmazonSageMakerServiceCatalogProductsCodeBuildRole (Service: AWSCodeBuild; Status Code: 400; Error Code: InvalidInputException; Request ID: 4cf59a54-0c59-476a-a970-0ac656db4402; Proxy: null)\n",
    "```\n",
    "\n",
    "see [SageMaker Studio Permissions Required to Use Projects](https://docs.aws.amazon.com/sagemaker/latest/dg/sagemaker-projects-studio-updates.html). Grant the required permissions and repeat the project creation process."
   ]
  },
  {
   "cell_type": "code",
   "execution_count": null,
   "id": "e0df862b-067c-4e40-9fba-018cef9ec8ed",
   "metadata": {},
   "outputs": [],
   "source": []
  },
  {
   "cell_type": "code",
   "execution_count": null,
   "id": "cc33d63f-c580-4dbb-adff-5bfafb5d988e",
   "metadata": {},
   "outputs": [],
   "source": []
  },
  {
   "cell_type": "markdown",
   "id": "86fcc951-0ea2-43f3-89f0-5b2982334d11",
   "metadata": {},
   "source": [
    "## Continue with the step 5\n",
    "open the step 5 [notebook](05-deploy.ipynb)."
   ]
  },
  {
   "cell_type": "markdown",
   "id": "4afba0bb-5a1d-4399-b3bc-3664be5e40b9",
   "metadata": {},
   "source": [
    "## Further development ideas\n",
    "- You can use a SageMaker-provided [MLOps template for model building, training, and deployment with third-party Git repositories using Jenkins](https://docs.aws.amazon.com/sagemaker/latest/dg/sagemaker-projects-templates-sm.html#sagemaker-projects-templates-git-jenkins)\n",
    "- Create a [custom SageMaker project template](https://docs.aws.amazon.com/sagemaker/latest/dg/sagemaker-projects-templates-custom.html) to cover your specific project requirements"
   ]
  },
  {
   "cell_type": "markdown",
   "id": "06e55501-6c9c-40a7-89f3-04530e147a26",
   "metadata": {},
   "source": [
    "## Additional resources\n",
    "- [Amazon SageMaker Pipelines lab in SageMaker Immersion Day](https://catalog.us-east-1.prod.workshops.aws/workshops/63069e26-921c-4ce1-9cc7-dd882ff62575/en-US/lab6)\n",
    "- [Enhance your machine learning development by using a modular architecture with Amazon SageMaker projects](https://aws.amazon.com/blogs/machine-learning/enhance-your-machine-learning-development-by-using-a-modular-architecture-with-amazon-sagemaker-projects/)\n",
    "- [Dive deep into automating MLOps](https://www.youtube.com/watch?v=3_cHnk9VSfQ)"
   ]
  },
  {
   "cell_type": "markdown",
   "id": "53f175fc-3eea-4777-9047-329c5098eed7",
   "metadata": {},
   "source": [
    "# Shutdown kernel"
   ]
  },
  {
   "cell_type": "code",
   "execution_count": null,
   "id": "feb3ee45-d774-4d7d-8954-6f5479e20090",
   "metadata": {},
   "outputs": [],
   "source": [
    "%%html\n",
    "\n",
    "<p><b>Shutting down your kernel for this notebook to release resources.</b></p>\n",
    "<button class=\"sm-command-button\" data-commandlinker-command=\"kernelmenu:shutdown\" style=\"display:none;\">Shutdown Kernel</button>\n",
    "        \n",
    "<script>\n",
    "try {\n",
    "    els = document.getElementsByClassName(\"sm-command-button\");\n",
    "    els[0].click();\n",
    "}\n",
    "catch(err) {\n",
    "    // NoOp\n",
    "}    \n",
    "</script>"
   ]
  }
 ],
 "metadata": {
  "instance_type": "ml.t3.medium",
  "kernelspec": {
   "display_name": "Python 3 (Data Science)",
   "language": "python",
   "name": "python3__SAGEMAKER_INTERNAL__arn:aws:sagemaker:us-east-1:081325390199:image/datascience-1.0"
  },
  "language_info": {
   "codemirror_mode": {
    "name": "ipython",
    "version": 3
   },
   "file_extension": ".py",
   "mimetype": "text/x-python",
   "name": "python",
   "nbconvert_exporter": "python",
   "pygments_lexer": "ipython3",
   "version": "3.7.10"
  }
 },
 "nbformat": 4,
 "nbformat_minor": 5
}
