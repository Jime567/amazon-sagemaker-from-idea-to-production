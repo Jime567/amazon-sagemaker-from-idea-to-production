{
 "cells": [
  {
   "cell_type": "markdown",
   "id": "6c699c04-d2d4-4480-955d-60c264e19997",
   "metadata": {},
   "source": [
    "# Assignment 5: Create a model deployment CI/CD pipeline"
   ]
  },
  {
   "cell_type": "markdown",
   "id": "12b0f975-75f5-4d87-a156-4b08fe4197c9",
   "metadata": {},
   "source": [
    "## Import packages"
   ]
  },
  {
   "cell_type": "code",
   "execution_count": null,
   "id": "7c10502e-86c0-4e67-a12f-cafff96eea50",
   "metadata": {},
   "outputs": [],
   "source": []
  },
  {
   "cell_type": "code",
   "execution_count": null,
   "id": "ce1ddfcf-7be0-49e5-a15c-c01831fa69a8",
   "metadata": {},
   "outputs": [],
   "source": []
  },
  {
   "cell_type": "code",
   "execution_count": null,
   "id": "1f62d97d-8228-4df4-9c3d-f8ba3ae0aa80",
   "metadata": {},
   "outputs": [],
   "source": []
  },
  {
   "cell_type": "code",
   "execution_count": null,
   "id": "2404b25c-ab83-4994-b16c-e269590ead43",
   "metadata": {},
   "outputs": [],
   "source": []
  },
  {
   "cell_type": "markdown",
   "id": "36f6b139-25d0-4e85-b95e-d775bb4a8052",
   "metadata": {},
   "source": [
    "## Continue with the assignment 6\n",
    "Navigate to the [assignment 6](06-assignment-monitoring.ipynb) notebook."
   ]
  },
  {
   "cell_type": "code",
   "execution_count": null,
   "id": "ad5d2a4f-da70-4f52-aca9-2bcfcb25e90f",
   "metadata": {},
   "outputs": [],
   "source": []
  }
 ],
 "metadata": {
  "instance_type": "ml.t3.medium",
  "kernelspec": {
   "display_name": "Python 3 (Data Science)",
   "language": "python",
   "name": "python3__SAGEMAKER_INTERNAL__arn:aws:sagemaker:us-east-1:081325390199:image/datascience-1.0"
  },
  "language_info": {
   "codemirror_mode": {
    "name": "ipython",
    "version": 3
   },
   "file_extension": ".py",
   "mimetype": "text/x-python",
   "name": "python",
   "nbconvert_exporter": "python",
   "pygments_lexer": "ipython3",
   "version": "3.7.10"
  }
 },
 "nbformat": 4,
 "nbformat_minor": 5
}
