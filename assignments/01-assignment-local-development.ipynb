{
 "cells": [
  {
   "cell_type": "markdown",
   "id": "c803e4f2-0416-4471-b5ff-11073ef8ab55",
   "metadata": {},
   "source": [
    "# Assignment 1: local development in a notebook\n",
    "In this assignment you write code to process data, do feature engineering, train a model, and evaluate the model on the test dataset. You do all processing in the local notebook, trading scalability and reproducibility for the speed of deployment and fast interations to experiment with different feature engineering approaches and model types.\n",
    "\n",
    "Refer to the notebook [`01-idea-development.ipynb`](../01-idea-development.ipynb) for code snippets and a general guidance for the exercises in this assignment notebook.\n",
    "\n",
    "Feel free to implement your own specific use case with your own dataset and a model."
   ]
  },
  {
   "cell_type": "markdown",
   "id": "e9d935df-3b71-4918-af10-66a9efbafbc3",
   "metadata": {},
   "source": [
    "## Install and import packages\n",
    "You can use `%` commands and `pip install` to install any packages in the notebook kernel."
   ]
  },
  {
   "cell_type": "code",
   "execution_count": 2,
   "id": "0d789051-1d5e-44c0-a1e6-c1d4c9f1981a",
   "metadata": {},
   "outputs": [
    {
     "name": "stdout",
     "output_type": "stream",
     "text": [
      "\u001b[33mWARNING: Running pip as the 'root' user can result in broken permissions and conflicting behaviour with the system package manager. It is recommended to use a virtual environment instead: https://pip.pypa.io/warnings/venv\u001b[0m\u001b[33m\n",
      "\u001b[0mNote: you may need to restart the kernel to use updated packages.\n",
      "\u001b[33mWARNING: Running pip as the 'root' user can result in broken permissions and conflicting behaviour with the system package manager. It is recommended to use a virtual environment instead: https://pip.pypa.io/warnings/venv\u001b[0m\u001b[33m\n",
      "\u001b[0mNote: you may need to restart the kernel to use updated packages.\n"
     ]
    }
   ],
   "source": [
    "%pip install --upgrade -q aiobotocore\n",
    "%pip install -q  xgboost"
   ]
  },
  {
   "cell_type": "code",
   "execution_count": 3,
   "id": "9e35063a-4fa2-4424-a96d-e0726232188a",
   "metadata": {},
   "outputs": [],
   "source": [
    "import pandas as pd\n",
    "import numpy as np \n",
    "import boto3\n",
    "import sagemaker\n",
    "import json\n",
    "import joblib\n",
    "import xgboost as xgb\n",
    "from sklearn.metrics import roc_auc_score"
   ]
  },
  {
   "cell_type": "markdown",
   "id": "ab0f32c5-24a6-4478-9296-c3105d8bde8d",
   "metadata": {
    "tags": []
   },
   "source": [
    "## Load data\n",
    "- Load data from a local file to a Pandas dataframe\n",
    "- Explore the data"
   ]
  },
  {
   "cell_type": "code",
   "execution_count": 4,
   "id": "74dc043b-c289-4432-8d2a-f1e63c678066",
   "metadata": {},
   "outputs": [],
   "source": [
    "# Write data load code\n"
   ]
  },
  {
   "cell_type": "markdown",
   "id": "67e49a2a-6119-446f-a69c-eba9024f4a6e",
   "metadata": {},
   "source": [
    "## Exercise 1: EDA and feature engineering\n",
    "- Implement data processing\n",
    "- Implement EDA\n",
    "- Implement feature engineering"
   ]
  },
  {
   "cell_type": "code",
   "execution_count": 5,
   "id": "c6cce611-1195-4e32-bf10-5ff04bf0e402",
   "metadata": {},
   "outputs": [],
   "source": [
    "# Exercise 1 - write code here\n"
   ]
  },
  {
   "cell_type": "markdown",
   "id": "7aa8469d-3081-40f6-ad1b-720204cdff81",
   "metadata": {},
   "source": [
    "## Exercise 2: Split data\n",
    "- Prepare data for training, split the dataset"
   ]
  },
  {
   "cell_type": "code",
   "execution_count": 16,
   "id": "a96d86c8-b351-4d20-81f4-2b9993dd9fa6",
   "metadata": {},
   "outputs": [],
   "source": [
    "# Exercise 2 - write code here\n",
    "# train_data, validation_data, test_data = np.split()"
   ]
  },
  {
   "cell_type": "markdown",
   "id": "e334dec8-5c00-4d2d-a873-d0fa4d8d4722",
   "metadata": {},
   "source": [
    "## Exercise 3: Model training\n",
    "- Train the model"
   ]
  },
  {
   "cell_type": "code",
   "execution_count": 8,
   "id": "81b7858d-e868-43cd-ae09-3ca88ee3f48d",
   "metadata": {},
   "outputs": [],
   "source": [
    "# Exercise 3 - write code here\n"
   ]
  },
  {
   "cell_type": "markdown",
   "id": "8985f391-6a02-403a-8cee-3c08dd9476a4",
   "metadata": {},
   "source": [
    "## Exercise 4: Validate model\n",
    "- Validate the model on the test dataset"
   ]
  },
  {
   "cell_type": "code",
   "execution_count": 17,
   "id": "0c607fb1-2dcf-4064-8fd8-4e435ef8a2bd",
   "metadata": {},
   "outputs": [],
   "source": [
    "# Exercise 4 - write code here\n",
    "\n",
    "# test_auc = roc_auc_score(test_label, test_pred)\n",
    "# train_auc = roc_auc_score(train_label, train_pred)\n",
    "# print(f\"Train-auc:{train_auc:.2f}, Test-auc:{test_auc:.2f}\")"
   ]
  },
  {
   "cell_type": "markdown",
   "id": "3178a2a7-ccec-41b4-a186-77e0343713f8",
   "metadata": {},
   "source": [
    "## Continue with the assignment 2\n",
    "Navigate to the [assignment 2](02-assignment-sagemaker-containers.ipynb) notebook."
   ]
  }
 ],
 "metadata": {
  "instance_type": "ml.t3.medium",
  "kernelspec": {
   "display_name": "Python 3 (Data Science)",
   "language": "python",
   "name": "python3__SAGEMAKER_INTERNAL__arn:aws:sagemaker:us-east-1:081325390199:image/datascience-1.0"
  },
  "language_info": {
   "codemirror_mode": {
    "name": "ipython",
    "version": 3
   },
   "file_extension": ".py",
   "mimetype": "text/x-python",
   "name": "python",
   "nbconvert_exporter": "python",
   "pygments_lexer": "ipython3",
   "version": "3.7.10"
  }
 },
 "nbformat": 4,
 "nbformat_minor": 5
}
