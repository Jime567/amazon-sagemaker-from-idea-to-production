{
 "cells": [
  {
   "cell_type": "markdown",
   "id": "147445ff-525c-4d20-8e2a-e6a9ae73ae52",
   "metadata": {},
   "source": [
    "# Assignment 2: use SageMaker processing and training jobs\n",
    "In this assignment you move your data processing, feature enginering, and model training code to SageMaker jobs.\n",
    "\n",
    "Refer to the notebook [`02-sagemaker-containers.ipynb`](../02-sagemaker-containers.ipynb) for code snippets and a general guidance for the exercises in this assignment notebook."
   ]
  },
  {
   "cell_type": "markdown",
   "id": "82509f78-db32-4573-8407-8398e65e157c",
   "metadata": {},
   "source": [
    "## Import packages"
   ]
  },
  {
   "cell_type": "code",
   "execution_count": 2,
   "id": "0915bc6f-8200-43d5-b941-473a25674b16",
   "metadata": {},
   "outputs": [
    {
     "data": {
      "text/plain": [
       "'2.107.0'"
      ]
     },
     "execution_count": 2,
     "metadata": {},
     "output_type": "execute_result"
    }
   ],
   "source": [
    "import time\n",
    "\n",
    "import boto3\n",
    "import numpy as np  \n",
    "import pandas as pd  \n",
    "import sagemaker\n",
    "from sagemaker.sklearn.processing import SKLearnProcessor\n",
    "from sagemaker.processing import ProcessingInput, ProcessingOutput\n",
    "from sklearn.metrics import roc_auc_score\n",
    "\n",
    "sagemaker.__version__"
   ]
  },
  {
   "cell_type": "markdown",
   "id": "f12711df-77ca-456b-9e4b-7586f003edaa",
   "metadata": {},
   "source": [
    "## Excercise 1\n",
    "- Use SageMaker session object to [upload](https://sagemaker.readthedocs.io/en/stable/api/utility/session.html#sagemaker.session.Session.upload_data)  the dataset to an Amazon S3 bucket. Use a SageMaker [default bucket](https://sagemaker.readthedocs.io/en/stable/api/utility/session.html#sagemaker.session.Session.default_bucket)\n",
    "- Move data processing code to a Python executable script. You can pass any parameters to your script to parametrize the data processing\n",
    "- Use [SageMaker Python SDK](https://sagemaker.readthedocs.io/en/stable/overview.html) [`SKLearnProcessor`](https://sagemaker.readthedocs.io/en/stable/frameworks/sklearn/sagemaker.sklearn.html#sagemaker.sklearn.processing.SKLearnProcessor) class to setup a processing job. \n",
    "- Configure processing job's [inputs](https://sagemaker.readthedocs.io/en/stable/api/training/processing.html#sagemaker.processing.ProcessingInput) and [outputs](https://sagemaker.readthedocs.io/en/stable/api/training/processing.html#sagemaker.processing.ProcessingOutput) to point the processing job to Amazon S3 locations\n",
    "- [Run](https://sagemaker.readthedocs.io/en/stable/api/training/processing.html#sagemaker.processing.ScriptProcessor.run) the processing job"
   ]
  },
  {
   "cell_type": "markdown",
   "id": "3c577c8c-7b1b-4cf4-90de-0c055d407331",
   "metadata": {},
   "source": [
    "### Python SDK processor classes\n",
    "Use the most suitable class to implement a processor for your use case:\n",
    "    \n",
    "![](../img/python-sdk-processors.png)"
   ]
  },
  {
   "cell_type": "code",
   "execution_count": 12,
   "id": "2a32c23c-349a-400b-be8f-192471d68284",
   "metadata": {},
   "outputs": [],
   "source": [
    "session = sagemaker.Session()"
   ]
  },
  {
   "cell_type": "code",
   "execution_count": 13,
   "id": "c8552eae-d40b-4cef-b30d-23cc4aa676c8",
   "metadata": {},
   "outputs": [],
   "source": [
    "# Write data upload code\n",
    "# input_s3_url = # S3 key to the full dataset\n"
   ]
  },
  {
   "cell_type": "code",
   "execution_count": 14,
   "id": "de41ea02-1ed2-4550-b952-be3b90db2cf8",
   "metadata": {},
   "outputs": [
    {
     "name": "stdout",
     "output_type": "stream",
     "text": [
      "Overwriting preprocessing_assignment.py\n"
     ]
    }
   ],
   "source": [
    "%%writefile preprocessing_assignment.py\n",
    "\n",
    "# Write executable data processing code here\n",
    "import pandas as pd\n",
    "import numpy as np\n",
    "import argparse\n",
    "import os\n",
    "\n",
    "def _parse_args():\n",
    "    \n",
    "    parser = argparse.ArgumentParser()\n",
    "    # Data, model, and output directories\n",
    "    # model_dir is always passed in from SageMaker. By default this is a S3 path under the default bucket.\n",
    "    parser.add_argument('--filepath', type=str, default='/opt/ml/processing/input/')\n",
    "    parser.add_argument('--filename', type=str, default='bank-additional-full.csv')\n",
    "    parser.add_argument('--outputpath', type=str, default='/opt/ml/processing/output/')\n",
    "    \n",
    "    return parser.parse_known_args()\n",
    "\n",
    "\n",
    "if __name__==\"__main__\":\n",
    "    # Process arguments\n",
    "    args, _ = _parse_args()\n",
    "    \n",
    "    print(\"Data processing and feature engineering start\")\n",
    "    \n",
    "    # Processing code here\n",
    "    \n",
    "    # Save the datasets (train, validation, test) locally\n",
    "    \n",
    "    print(\"## Processing complete. Exiting.\")"
   ]
  },
  {
   "cell_type": "code",
   "execution_count": 15,
   "id": "4b65e2ed-6998-4efa-9cf0-ce68d9e5b944",
   "metadata": {},
   "outputs": [],
   "source": [
    "# Create SKLearnProcessor\n",
    "framework_version = \"0.23-1\"\n",
    "processing_instance_type = \"ml.m5.large\"\n",
    "processing_instance_count = 1\n",
    "\n",
    "# sklearn_processor = SKLearnProcessor()\n"
   ]
  },
  {
   "cell_type": "code",
   "execution_count": 16,
   "id": "3624021f-a0cf-40da-991c-2f9e04a46b54",
   "metadata": {},
   "outputs": [],
   "source": [
    "# Define procesing inputs and outputs\n",
    "processing_inputs = [] # use input_s3_url as pointer to the full dataset\n",
    "\n",
    "processing_outputs = [] # map local directories in the processing container to Amazon S3 locations"
   ]
  },
  {
   "cell_type": "code",
   "execution_count": 18,
   "id": "e4e9313e-e4b0-4ddc-928d-c6afd48a202d",
   "metadata": {},
   "outputs": [],
   "source": [
    "# Start the processing job\n",
    "# sklearn_processor.run() "
   ]
  },
  {
   "cell_type": "markdown",
   "id": "931aa28b-f71a-4bcf-9be1-741f25cfdf5f",
   "metadata": {},
   "source": [
    "## Exercise 2\n",
    "- Get an ECR URI for the used built-in SageMaker algorithm\n",
    "- Configure data input channels for the training job\n",
    "- Use [`Estimator`]() class to setup a training job\n",
    "- Set [hyperparameters]()\n",
    "- [Run]() the training job"
   ]
  },
  {
   "cell_type": "code",
   "execution_count": null,
   "id": "9274e86b-5924-47c9-a294-44e45b586e52",
   "metadata": {},
   "outputs": [],
   "source": []
  },
  {
   "cell_type": "code",
   "execution_count": null,
   "id": "d533adcd-e8ae-4a7e-b284-98758520125f",
   "metadata": {},
   "outputs": [],
   "source": []
  },
  {
   "cell_type": "code",
   "execution_count": null,
   "id": "65a6a99c-2e1e-40f5-abf9-4118a328a5bb",
   "metadata": {},
   "outputs": [],
   "source": []
  },
  {
   "cell_type": "code",
   "execution_count": null,
   "id": "45d168f3-9d49-4b80-9679-d929fb7ef170",
   "metadata": {},
   "outputs": [],
   "source": []
  },
  {
   "cell_type": "code",
   "execution_count": null,
   "id": "c10913bc-d893-401b-813f-da68f98bd79d",
   "metadata": {},
   "outputs": [],
   "source": []
  },
  {
   "cell_type": "markdown",
   "id": "640240ee-0e43-4a01-823d-fcf977587008",
   "metadata": {},
   "source": [
    "### Python SDK estimator classes\n",
    "SageMaker Python SDK contains corresponding [`EstimatorBase`](https://sagemaker.readthedocs.io/en/stable/api/training/estimators.html#sagemaker.estimator.EstimatorBase)-derived classes to access each of the built-in algorithms. You can extend [`Framework`](https://sagemaker.readthedocs.io/en/stable/api/training/estimators.html#sagemaker.estimator.Framework) class to implement a training with a custom framework.\n",
    "\n",
    "![](../img/python-sdk-estimators.png)"
   ]
  },
  {
   "cell_type": "code",
   "execution_count": null,
   "id": "361c0849-89c6-452d-9656-1ca8a29ae1a7",
   "metadata": {},
   "outputs": [],
   "source": []
  },
  {
   "cell_type": "code",
   "execution_count": null,
   "id": "733a4197-b3dc-4248-8c53-27ed8ad4526e",
   "metadata": {},
   "outputs": [],
   "source": []
  },
  {
   "cell_type": "code",
   "execution_count": null,
   "id": "c418c9fc-14d6-437e-9419-bbe35a2322f5",
   "metadata": {},
   "outputs": [],
   "source": []
  },
  {
   "cell_type": "code",
   "execution_count": null,
   "id": "27829627-a17e-4a73-a4a6-52da7697649b",
   "metadata": {},
   "outputs": [],
   "source": []
  },
  {
   "cell_type": "code",
   "execution_count": null,
   "id": "b2865c3c-070d-430b-bd77-291e1f124670",
   "metadata": {},
   "outputs": [],
   "source": []
  },
  {
   "cell_type": "markdown",
   "id": "0c588b31-6ffe-4350-b8be-9f6631eb3eb7",
   "metadata": {},
   "source": [
    "## Continue with the assignment 3\n",
    "Navigate to the [assignment 3](03-assignment-sagemaker-pipeline.ipynb) notebook."
   ]
  },
  {
   "cell_type": "code",
   "execution_count": null,
   "id": "c708391b-2f70-45d0-afe2-3d9c89a8860a",
   "metadata": {},
   "outputs": [],
   "source": []
  }
 ],
 "metadata": {
  "instance_type": "ml.t3.medium",
  "kernelspec": {
   "display_name": "Python 3 (Data Science)",
   "language": "python",
   "name": "python3__SAGEMAKER_INTERNAL__arn:aws:sagemaker:us-east-1:081325390199:image/datascience-1.0"
  },
  "language_info": {
   "codemirror_mode": {
    "name": "ipython",
    "version": 3
   },
   "file_extension": ".py",
   "mimetype": "text/x-python",
   "name": "python",
   "nbconvert_exporter": "python",
   "pygments_lexer": "ipython3",
   "version": "3.7.10"
  }
 },
 "nbformat": 4,
 "nbformat_minor": 5
}
