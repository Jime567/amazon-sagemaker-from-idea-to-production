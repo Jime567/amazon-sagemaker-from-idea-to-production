{
 "cells": [
  {
   "cell_type": "markdown",
   "id": "d08dc292-00f2-4264-a3d2-3ff9b42dc8cc",
   "metadata": {},
   "source": [
    "# Assignment 4: Create a SageMaker project"
   ]
  },
  {
   "cell_type": "markdown",
   "id": "82f1d136-8bf3-4763-9c2f-8a8f0ff33d95",
   "metadata": {},
   "source": [
    "## Import packages"
   ]
  },
  {
   "cell_type": "code",
   "execution_count": null,
   "id": "38fe7c5a-7862-486b-acbd-b0541835c873",
   "metadata": {},
   "outputs": [],
   "source": []
  },
  {
   "cell_type": "code",
   "execution_count": null,
   "id": "dd351770-46f9-440d-ae8a-7d6938c68942",
   "metadata": {},
   "outputs": [],
   "source": []
  },
  {
   "cell_type": "code",
   "execution_count": null,
   "id": "621dc421-dddd-4efd-9223-4c57b141557b",
   "metadata": {},
   "outputs": [],
   "source": []
  },
  {
   "cell_type": "markdown",
   "id": "61765e5c-fc86-4a10-ab87-4ec23c21489a",
   "metadata": {},
   "source": [
    "## Continue with the assignment 5\n",
    "Navigate to the [assignment 5](05-assignment-deploy.ipynb) notebook."
   ]
  },
  {
   "cell_type": "code",
   "execution_count": null,
   "id": "79820306-ff4a-42eb-83c5-7af158684f41",
   "metadata": {},
   "outputs": [],
   "source": []
  }
 ],
 "metadata": {
  "instance_type": "ml.t3.medium",
  "kernelspec": {
   "display_name": "Python 3 (Data Science)",
   "language": "python",
   "name": "python3__SAGEMAKER_INTERNAL__arn:aws:sagemaker:us-east-1:081325390199:image/datascience-1.0"
  },
  "language_info": {
   "codemirror_mode": {
    "name": "ipython",
    "version": 3
   },
   "file_extension": ".py",
   "mimetype": "text/x-python",
   "name": "python",
   "nbconvert_exporter": "python",
   "pygments_lexer": "ipython3",
   "version": "3.7.10"
  }
 },
 "nbformat": 4,
 "nbformat_minor": 5
}
