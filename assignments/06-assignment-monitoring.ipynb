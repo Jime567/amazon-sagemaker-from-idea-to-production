{
 "cells": [
  {
   "cell_type": "markdown",
   "id": "2e704ecf-a79c-4599-95c3-53fa7db61d17",
   "metadata": {},
   "source": [
    "# Assignment 6: Implement data and model quality monitoring"
   ]
  },
  {
   "cell_type": "markdown",
   "id": "e686992b-b98b-4458-9419-df81c7eb452d",
   "metadata": {},
   "source": [
    "## Import packages"
   ]
  },
  {
   "cell_type": "code",
   "execution_count": null,
   "id": "33aa988d-6b9d-4b3d-9f0f-5d23db3e600a",
   "metadata": {},
   "outputs": [],
   "source": []
  },
  {
   "cell_type": "code",
   "execution_count": null,
   "id": "5ea0aca0-d3d4-40f7-9bde-15787c38ca73",
   "metadata": {},
   "outputs": [],
   "source": []
  },
  {
   "cell_type": "code",
   "execution_count": null,
   "id": "081a064f-9733-4925-8623-badd3744b8ae",
   "metadata": {},
   "outputs": [],
   "source": []
  },
  {
   "cell_type": "markdown",
   "id": "2ce1094a-07e9-4b55-b442-b8fdf7b715ee",
   "metadata": {},
   "source": [
    "## Continue with the clean-up\n",
    "After you finished with the assignments and experiments, you must clean-up all created resources.\n",
    "\n",
    "Navigate to the [clean-up](../99-clean-up.ipynb) notebook."
   ]
  },
  {
   "cell_type": "code",
   "execution_count": null,
   "id": "37851f9f-7384-4211-83ad-a9790eabc4ac",
   "metadata": {},
   "outputs": [],
   "source": []
  }
 ],
 "metadata": {
  "instance_type": "ml.t3.medium",
  "kernelspec": {
   "display_name": "Python 3 (Data Science)",
   "language": "python",
   "name": "python3__SAGEMAKER_INTERNAL__arn:aws:sagemaker:us-east-1:081325390199:image/datascience-1.0"
  },
  "language_info": {
   "codemirror_mode": {
    "name": "ipython",
    "version": 3
   },
   "file_extension": ".py",
   "mimetype": "text/x-python",
   "name": "python",
   "nbconvert_exporter": "python",
   "pygments_lexer": "ipython3",
   "version": "3.7.10"
  }
 },
 "nbformat": 4,
 "nbformat_minor": 5
}
