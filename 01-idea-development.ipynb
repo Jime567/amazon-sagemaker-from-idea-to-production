{
 "cells": [
  {
   "cell_type": "markdown",
   "id": "3118eeda-7d21-4701-85b3-5d5e5f8ee223",
   "metadata": {},
   "source": [
    "# Step 1: Experiment in a notebook\n",
    "In this step you run data processing and model training and evaluation in the notebook locally. You don't use `sagemaker` or `boto3` packages.\n",
    "\n",
    "![](img/six-steps-1.png)"
   ]
  },
  {
   "cell_type": "code",
   "execution_count": null,
   "id": "f2c03c72-0235-49f5-a147-b120472472db",
   "metadata": {},
   "outputs": [],
   "source": [
    "%pip install --upgrade -q aiobotocore\n",
    "%pip install -q  xgboost"
   ]
  },
  {
   "cell_type": "code",
   "execution_count": null,
   "id": "166c4db0-4ee5-4fdf-b385-dfa210a58d38",
   "metadata": {},
   "outputs": [],
   "source": [
    "import pandas as pd\n",
    "import numpy as np \n",
    "import json\n",
    "import joblib\n",
    "import xgboost as xgb\n",
    "from sklearn.metrics import roc_auc_score"
   ]
  },
  {
   "cell_type": "code",
   "execution_count": null,
   "id": "cfb0b071-2e8f-43d1-b81e-12bff722b1a7",
   "metadata": {},
   "outputs": [],
   "source": [
    "%store -r \n",
    "\n",
    "%store\n",
    "\n",
    "try:\n",
    "    initialized\n",
    "except NameError:\n",
    "    print(\"+++++++++++++++++++++++++++++++++++++++++++++++++\")\n",
    "    print(\"[ERROR] YOU HAVE TO RUN 00-start-here notebook   \")\n",
    "    print(\"+++++++++++++++++++++++++++++++++++++++++++++++++\")"
   ]
  },
  {
   "cell_type": "code",
   "execution_count": null,
   "id": "c3f94a1a-6d3a-4e54-a419-de380b0a6af7",
   "metadata": {},
   "outputs": [],
   "source": [
    "target_col = \"y\""
   ]
  },
  {
   "cell_type": "code",
   "execution_count": null,
   "id": "eb2166f2-0684-4341-9919-7db9f8584c2c",
   "metadata": {},
   "outputs": [],
   "source": [
    "%store target_col"
   ]
  },
  {
   "cell_type": "markdown",
   "id": "79e29e7d-509c-43e7-951b-1511efec04fe",
   "metadata": {},
   "source": [
    "## Load data"
   ]
  },
  {
   "cell_type": "code",
   "execution_count": null,
   "id": "164f00e0-4897-4d18-b1db-acbf7fbb566e",
   "metadata": {},
   "outputs": [],
   "source": [
    "df_data = pd.read_csv(\"./data/bank-additional/bank-additional-full.csv\", sep=\";\")\n",
    "\n",
    "pd.set_option(\"display.max_columns\", 500)  # View all of the columns\n",
    "df_data  # show first 5 and last 5 rows of the dataframe"
   ]
  },
  {
   "cell_type": "markdown",
   "id": "b49b8fa1-ed93-499b-a089-72a7bcb89e8e",
   "metadata": {},
   "source": [
    "## Feature engineering"
   ]
  },
  {
   "cell_type": "markdown",
   "id": "6d34bd94-2a72-4353-bec0-e0b39cae1f67",
   "metadata": {},
   "source": [
    "As an example, the processing script implements the following feature engineering:\n",
    "1. Create a new column called `no_previous_contact`. Set value to `1` when `pdays` is `999` and `0` otherwise\n",
    "2. Generate a new column to show whether the customer is working based on `job` column\n",
    "3. Remove the economic features and `duration` from the dataset as they would need to be forecasted with high precision to be used as features during inference time\n",
    "4. Convert categorical variables to numeric using **one hot encoding**\n",
    "5. Move the target column `y` to the front\n",
    "\n",
    "In real world you implement additional processing, data quality handling, and feature engineering. You also go via multiple \"try & fail\" iterations."
   ]
  },
  {
   "cell_type": "code",
   "execution_count": null,
   "id": "dc369034-57d7-4b02-bf5d-8b78c3b496d8",
   "metadata": {},
   "outputs": [],
   "source": [
    "# Indicator variable to capture when pdays takes a value of 999\n",
    "df_data[\"no_previous_contact\"] = np.where(df_data[\"pdays\"] == 999, 1, 0)\n",
    "\n",
    "# Indicator for individuals not actively employed\n",
    "df_data[\"not_working\"] = np.where(\n",
    "    np.in1d(df_data[\"job\"], [\"student\", \"retired\", \"unemployed\"]), 1, 0\n",
    ")\n",
    "\n",
    "# remove unnecessary data\n",
    "df_model_data = df_data.drop(\n",
    "    [\"duration\", \"emp.var.rate\", \"cons.price.idx\", \"cons.conf.idx\", \"euribor3m\", \"nr.employed\"],\n",
    "    axis=1,\n",
    ")\n",
    "\n",
    "df_model_data = pd.get_dummies(df_model_data)  # Convert categorical variables to sets of indicators\n",
    "\n",
    "# Replace \"y_no\" and \"y_yes\" with a single label column, and bring it to the front:\n",
    "df_model_data = pd.concat(\n",
    "    [\n",
    "        df_model_data[\"y_yes\"].rename(target_col),\n",
    "        df_model_data.drop([\"y_no\", \"y_yes\"], axis=1),\n",
    "    ],\n",
    "    axis=1,\n",
    ")"
   ]
  },
  {
   "cell_type": "code",
   "execution_count": null,
   "id": "f830c039-fb9c-45d9-bc27-c5515af8d20e",
   "metadata": {},
   "outputs": [],
   "source": [
    "df_model_data"
   ]
  },
  {
   "cell_type": "markdown",
   "id": "3719cb79-240d-4538-bf9f-162bf720eb32",
   "metadata": {},
   "source": [
    "## Split data"
   ]
  },
  {
   "cell_type": "markdown",
   "id": "6c87da0b-2400-4824-8395-032995db4cb6",
   "metadata": {},
   "source": [
    "[SageMaker XGBoost](https://docs.aws.amazon.com/sagemaker/latest/dg/xgboost.html#InputOutput-XGBoost) expects data in the libSVM or CSV formats, with:\n",
    "\n",
    "- The target variable in the first column, and\n",
    "- No header row"
   ]
  },
  {
   "cell_type": "code",
   "execution_count": null,
   "id": "c950b41f-c119-489a-9eb4-f02da71377e8",
   "metadata": {},
   "outputs": [],
   "source": [
    "# Shuffle and splitting dataset\n",
    "train_data, validation_data, test_data = np.split(\n",
    "    df_model_data.sample(frac=1, random_state=1729),\n",
    "    [int(0.7 * len(df_model_data)), int(0.9 * len(df_model_data))],\n",
    ")\n",
    "\n",
    "print(f\"Data split > train:{train_data.shape} | validation:{validation_data.shape} | test:{test_data.shape}\")"
   ]
  },
  {
   "cell_type": "code",
   "execution_count": null,
   "id": "8a736548-ee91-4707-b80d-5433886dbd52",
   "metadata": {},
   "outputs": [],
   "source": [
    "# Save data to Studio filesystem\n",
    "train_data.to_csv(\"data/train.csv\", index=False, header=False)\n",
    "validation_data.to_csv(\"data/validation.csv\", index=False, header=False)\n",
    "test_data.to_csv(\"data/test.csv\", index=False, header=False)"
   ]
  },
  {
   "cell_type": "markdown",
   "id": "2dfa7a41-18c3-466e-914f-dcbaa1dea4c3",
   "metadata": {},
   "source": [
    "## Model training"
   ]
  },
  {
   "cell_type": "code",
   "execution_count": null,
   "id": "4f0e60df-20a1-4c78-9d4f-96e4df9b22a7",
   "metadata": {},
   "outputs": [],
   "source": [
    "train_features = train_data.drop(target_col, axis=1)\n",
    "train_label = pd.DataFrame(train_data[target_col])"
   ]
  },
  {
   "cell_type": "code",
   "execution_count": null,
   "id": "0d5aef03-ab66-490b-a95f-44a5f741d772",
   "metadata": {},
   "outputs": [],
   "source": [
    "dtrain = xgb.DMatrix(train_features, label=train_label)"
   ]
  },
  {
   "cell_type": "code",
   "execution_count": null,
   "id": "dd8083e8-3f99-40ed-99a1-29fcce25ce07",
   "metadata": {},
   "outputs": [],
   "source": [
    "hyperparams = {\n",
    "                \"max_depth\": 5,\n",
    "                \"eta\": 0.5,\n",
    "                \"alpha\": 2.5,\n",
    "                \"objective\": \"binary:logistic\",\n",
    "                \"subsample\" : 0.8,\n",
    "                \"colsample_bytree\" : 0.8,\n",
    "                \"min_child_weight\" : 3\n",
    "              }\n",
    "\n",
    "num_boost_round = 150\n",
    "nfold = 3\n",
    "early_stopping_rounds = 10"
   ]
  },
  {
   "cell_type": "markdown",
   "id": "f58a9d6c-28b6-4e44-85fb-53eda2319158",
   "metadata": {},
   "source": [
    "First, train the model on `nfold` number of folds of the training dataset and run a cross-validation."
   ]
  },
  {
   "cell_type": "code",
   "execution_count": null,
   "id": "9952ab2f-318d-47e9-9de5-29955c049b9d",
   "metadata": {},
   "outputs": [],
   "source": [
    "# Cross-validate on training data\n",
    "cv_results = xgb.cv(\n",
    "    params=hyperparams,\n",
    "    dtrain=dtrain,\n",
    "    num_boost_round=num_boost_round,\n",
    "    nfold=nfold,\n",
    "    early_stopping_rounds=early_stopping_rounds,\n",
    "    metrics=[\"auc\"],\n",
    "    seed=10,\n",
    ")"
   ]
  },
  {
   "cell_type": "code",
   "execution_count": null,
   "id": "cb401bc1-3fc0-4b98-8502-6cff8a007470",
   "metadata": {},
   "outputs": [],
   "source": [
    "metrics_data = {\n",
    "    \"binary_classification_metrics\": {\n",
    "        \"validation:auc\": {\n",
    "            \"value\": cv_results.iloc[-1][\"test-auc-mean\"],\n",
    "            \"standard_deviation\": cv_results.iloc[-1][\"test-auc-std\"]\n",
    "        },\n",
    "        \"train:auc\": {\n",
    "            \"value\": cv_results.iloc[-1][\"train-auc-mean\"],\n",
    "            \"standard_deviation\": cv_results.iloc[-1][\"train-auc-std\"]\n",
    "        },\n",
    "    }\n",
    "}"
   ]
  },
  {
   "cell_type": "code",
   "execution_count": null,
   "id": "bd48a38a-2269-4b93-8dd2-f33322722676",
   "metadata": {},
   "outputs": [],
   "source": [
    "print(f\"Cross-validated train-auc:{cv_results.iloc[-1]['train-auc-mean']:.2f}\")\n",
    "print(f\"Cross-validated validation-auc:{cv_results.iloc[-1]['test-auc-mean']:.2f}\")"
   ]
  },
  {
   "cell_type": "code",
   "execution_count": null,
   "id": "ce36daf7-03e2-424d-83f2-0902f2bae1ec",
   "metadata": {},
   "outputs": [],
   "source": [
    "cv_results"
   ]
  },
  {
   "cell_type": "markdown",
   "id": "7f7008ff-0963-432e-8abd-ca48c741882f",
   "metadata": {},
   "source": [
    "Now retrain the model on the full training dataset instead of splitting the training dataset across a number of folds. Use the test dataset for early stopping."
   ]
  },
  {
   "cell_type": "code",
   "execution_count": null,
   "id": "27f4d123-8cbd-4ad8-bcc8-a9fa6c5b50dc",
   "metadata": {},
   "outputs": [],
   "source": [
    "test_features = test_data.drop(target_col, axis=1)\n",
    "test_label = pd.DataFrame(test_data[target_col])\n",
    "dtest = xgb.DMatrix(test_features, label=test_label)"
   ]
  },
  {
   "cell_type": "code",
   "execution_count": null,
   "id": "1f61f18e-f715-436d-8b90-e9d43b6a3481",
   "metadata": {},
   "outputs": [],
   "source": [
    "model = (\n",
    "    xgb.train(\n",
    "        params=hyperparams, \n",
    "        dtrain=dtrain, \n",
    "        evals = [(dtrain,'train'), (dtest,'eval')], \n",
    "        num_boost_round=num_boost_round, \n",
    "        early_stopping_rounds=early_stopping_rounds, \n",
    "        verbose_eval = 0\n",
    "    )\n",
    ")"
   ]
  },
  {
   "cell_type": "markdown",
   "id": "dae70777-3ca5-4446-911d-19a102b6ebc8",
   "metadata": {},
   "source": [
    "## Validate model"
   ]
  },
  {
   "cell_type": "code",
   "execution_count": null,
   "id": "5c496696-f1b1-4bf5-974c-a70c4ce132cf",
   "metadata": {},
   "outputs": [],
   "source": [
    "# Test model performance on train and test sets\n",
    "test_pred = model.predict(dtest)\n",
    "train_pred = model.predict(dtrain)"
   ]
  },
  {
   "cell_type": "code",
   "execution_count": null,
   "id": "24a3dd56-26f5-4a25-bc19-743a850fdd8b",
   "metadata": {},
   "outputs": [],
   "source": [
    "test_auc = roc_auc_score(test_label, test_pred)\n",
    "train_auc = roc_auc_score(train_label, train_pred)\n",
    "\n",
    "print(f\"Train-auc:{train_auc:.2f}, Test-auc:{test_auc:.2f}\")"
   ]
  },
  {
   "cell_type": "markdown",
   "id": "f54b7e52-b68b-4e9e-949a-31932bb20aaf",
   "metadata": {},
   "source": [
    "## Continue with the step 2\n",
    "open the step 2 [notebook](02-sagemaker-containers.ipynb)."
   ]
  },
  {
   "cell_type": "markdown",
   "id": "1a1ddfdb-6468-414c-a4c3-dd76eb81c27f",
   "metadata": {},
   "source": [
    "## Further development ideas for your real-world projects\n",
    "- Try different models, for example some of the [SageMaker built-in algorithms](https://docs.aws.amazon.com/sagemaker/latest/dg/algos.html), such as [CatBoost](https://docs.aws.amazon.com/sagemaker/latest/dg/catboost.html), [AutoGluon-Tabular](https://docs.aws.amazon.com/sagemaker/latest/dg/autogluon-tabular.html), or [Linear Learner Algorithm](https://docs.aws.amazon.com/sagemaker/latest/dg/linear-learner.html)\n",
    "- Try [SageMaker Autopilot](https://aws.amazon.com/sagemaker/autopilot/) to automatically explore different solutions to find the best model. Refer to this hands-on tutorial: [Automatically Create Machine Learning Models](https://aws.amazon.com/getting-started/hands-on/machine-learning-tutorial-automatically-create-models/)\n",
    "- Implement batch inference using [SageMaker Batch Transform](https://docs.aws.amazon.com/sagemaker/latest/dg/batch-transform.html)"
   ]
  },
  {
   "cell_type": "markdown",
   "id": "9e775a4d-5738-4a8c-85c4-24278911a681",
   "metadata": {},
   "source": [
    "## Additional resources\n",
    "- [Build and Train a Machine Learning Model Locally](https://aws.amazon.com/getting-started/hands-on/machine-learning-tutorial-build-model-locally/)\n",
    "- [Amazon SageMaker XGBoost algorithm](https://docs.aws.amazon.com/sagemaker/latest/dg/xgboost.html)\n",
    "- [Automatically Create Machine Learning Models](https://aws.amazon.com/getting-started/hands-on/machine-learning-tutorial-automatically-create-models/)"
   ]
  },
  {
   "cell_type": "markdown",
   "id": "72802e95-0dcb-4c9d-aae5-1c2e5567447e",
   "metadata": {},
   "source": [
    "# Shutdown kernel"
   ]
  },
  {
   "cell_type": "code",
   "execution_count": null,
   "id": "29589281-5f86-4ed9-84aa-70f57c6b57fb",
   "metadata": {},
   "outputs": [],
   "source": [
    "%%html\n",
    "\n",
    "<p><b>Shutting down your kernel for this notebook to release resources.</b></p>\n",
    "<button class=\"sm-command-button\" data-commandlinker-command=\"kernelmenu:shutdown\" style=\"display:none;\">Shutdown Kernel</button>\n",
    "        \n",
    "<script>\n",
    "try {\n",
    "    els = document.getElementsByClassName(\"sm-command-button\");\n",
    "    els[0].click();\n",
    "}\n",
    "catch(err) {\n",
    "    // NoOp\n",
    "}    \n",
    "</script>"
   ]
  },
  {
   "cell_type": "code",
   "execution_count": null,
   "id": "bedd4596-85dc-46b6-9559-3a46c5793c88",
   "metadata": {},
   "outputs": [],
   "source": []
  }
 ],
 "metadata": {
  "instance_type": "ml.t3.medium",
  "kernelspec": {
   "display_name": "Python 3 (Data Science)",
   "language": "python",
   "name": "python3__SAGEMAKER_INTERNAL__arn:aws:sagemaker:us-east-1:081325390199:image/datascience-1.0"
  },
  "language_info": {
   "codemirror_mode": {
    "name": "ipython",
    "version": 3
   },
   "file_extension": ".py",
   "mimetype": "text/x-python",
   "name": "python",
   "nbconvert_exporter": "python",
   "pygments_lexer": "ipython3",
   "version": "3.7.10"
  }
 },
 "nbformat": 4,
 "nbformat_minor": 5
}
