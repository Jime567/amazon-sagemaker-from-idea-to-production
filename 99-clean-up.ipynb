{
 "cells": [
  {
   "cell_type": "markdown",
   "id": "5c4d2be8-f56a-4749-8ee0-89f654854836",
   "metadata": {},
   "source": [
    "# Clean-up your SageMaker environment"
   ]
  },
  {
   "cell_type": "markdown",
   "id": "1a5ba586-87db-4922-bb4d-98a90ed436dc",
   "metadata": {},
   "source": [
    "❗ This notebook removes all resources created by all notebooks you run in your environment. The following code cells will:\n",
    "- permanently delete project or projects you provisioned in your Studio environment\n",
    "- permanently delete feature group or groups\n",
    "- permanently delete project-provisioned S3 buckets\n",
    "- permanently delete objects in S3 buckets under project-related prefixes\n",
    "- permanently delete inference endpoints"
   ]
  },
  {
   "cell_type": "markdown",
   "id": "474b9289-f4b3-4595-9218-12c516dc538d",
   "metadata": {},
   "source": [
    "<div class=\"alert alert-info\"> 💡 <strong> This notebook will permanently delete resources in your AWS account. Please double check the names of resources to be deleted! </strong>\n",
    "</div>"
   ]
  },
  {
   "cell_type": "code",
   "execution_count": 4,
   "id": "8b2290c6-3b24-4e18-9fae-76d3addf4458",
   "metadata": {},
   "outputs": [],
   "source": [
    "import sagemaker\n",
    "import boto3\n",
    "import time\n",
    "import json\n",
    "import os"
   ]
  },
  {
   "cell_type": "code",
   "execution_count": 5,
   "id": "c1d0ca3d-7751-4e2e-a639-787bf47a4d15",
   "metadata": {},
   "outputs": [
    {
     "name": "stdout",
     "output_type": "stream",
     "text": [
      "Stored variables and their in-db values:\n",
      "abalone_dataset_file_name                -> 'abalone.csv'\n",
      "abalone_dataset_local_url                -> '../dataset/abalone.csv'\n",
      "auto_ml_job_name                         -> 'automl-asinproc-24-14-33-56'\n",
      "bucket_name                              -> 'sagemaker-us-east-1-906545278380'\n",
      "bucket_prefix                            -> 'from-idea-to-prod/xgboost'\n",
      "customers_count                          -> 10000\n",
      "customers_feature_group_name             -> 'fscw-customers-07-20-17-46'\n",
      "data_bucket                              -> 'sagemaker-us-east-1-906545278380'\n",
      "data_uploaded                            -> True\n",
      "domain_id                                -> 'd-r8pbvl3oamh6'\n",
      "dw_flow_file_url                         -> 's3://sagemaker-us-east-1-906545278380/feature-sto\n",
      "dw_output_name                           -> '928854ec-259e-4130-8e0f-b65221b27d6e.default'\n",
      "endpoint_name                            -> 'reorder-classifier-2022-07-20-19-45-09-338'\n",
      "execution_role                           -> 'arn:aws:iam::906545278380:role/service-role/Amazo\n",
      "feature_group_name                       -> 'FG-abalone-06-19-27-51-42ea2f48'\n",
      "freq                                     -> '2H'\n",
      "initialized                              -> True\n",
      "input_s3_url                             -> 's3://sagemaker-us-east-1-906545278380/from-idea-t\n",
      "model_package_group_name                 -> 'from-idea-to-prod-model-group'\n",
      "orders_count                             -> 100000\n",
      "orders_feature_group_name                -> 'fscw-orders-07-20-17-46'\n",
      "output_s3_url                            -> 's3://sagemaker-us-east-1-906545278380/from-idea-t\n",
      "products_count                           -> 17001\n",
      "products_feature_group_name              -> 'fscw-products-07-20-17-46'\n",
      "project_prefix                           -> 'loan-defaults'\n",
      "query_string                             -> 'SELECT * FROM \"fscw-customers-07-20-17-46-1658339\n",
      "region                                   -> 'us-east-1'\n",
      "s3_data_output_prefix                    -> 's3://sagemaker-us-east-1-906545278380/loan-defaul\n",
      "s3_data_prefix                           -> 's3://sagemaker-us-east-1-906545278380/loan-defaul\n",
      "s3_flow_prefix                           -> 's3://sagemaker-us-east-1-906545278380/loan-defaul\n",
      "s3_fs_query_output_prefix                -> 'sagemaker-us-east-1-906545278380/feature-store-in\n",
      "s3_input_data_prefix                     -> 'sagemaker-us-east-1-906545278380/feature-store-in\n",
      "s3_path                                  -> 's3://sagemaker-us-east-1-906545278380/loan-defaul\n",
      "s3_path_data                             -> 's3://sagemaker-us-east-1-906545278380/loan-defaul\n",
      "s3_test                                  -> 's3://sagemaker-us-east-1-906545278380/loan-defaul\n",
      "s3_to_fs_pipeline_name                   -> 's3-fs-ingest-pipeline-p-iwfgodxukuoo'\n",
      "sm_role                                  -> 'arn:aws:iam::906545278380:role/service-role/Amazo\n",
      "target_col                               -> 'y'\n",
      "test_data_s3_path                        -> 's3://sagemaker-us-east-1-906545278380/asin/test/t\n",
      "training_jobName                         -> 'reorder-classifier-2022-07-20-19-38-33-550'\n",
      "tuning_job_name                          -> 'mlu-dl1-xgb-tuning-220125-1108'\n",
      "xgb_train_job_name                       -> 'loan-defaults-2022-04-28-11-22-01-124'\n"
     ]
    }
   ],
   "source": [
    "%store -r \n",
    "\n",
    "%store\n",
    "\n",
    "try:\n",
    "    initialized\n",
    "except NameError:\n",
    "    print(\"+++++++++++++++++++++++++++++++++++++++++++++++++\")\n",
    "    print(\"[ERROR] YOU HAVE TO RUN 00-start-here notebook   \")\n",
    "    print(\"+++++++++++++++++++++++++++++++++++++++++++++++++\")"
   ]
  },
  {
   "cell_type": "code",
   "execution_count": 6,
   "id": "269c5544-c6d0-410e-a679-502930c12e02",
   "metadata": {},
   "outputs": [],
   "source": [
    "sm = boto3.client(\"sagemaker\")\n",
    "s3 = boto3.resource('s3')"
   ]
  },
  {
   "cell_type": "markdown",
   "id": "8799fb8b-001b-4e7c-897b-0607a538fbf7",
   "metadata": {},
   "source": [
    "## Delete projects"
   ]
  },
  {
   "cell_type": "code",
   "execution_count": 7,
   "id": "af518cf8-7090-46cf-a147-7ddb4f5acc74",
   "metadata": {},
   "outputs": [
    {
     "name": "stdout",
     "output_type": "stream",
     "text": [
      "These projects have been created by domain d-r8pbvl3oamh6: [\n",
      "  {\n",
      "    \"ProjectName\": \"step5-deploy-model\",\n",
      "    \"ProjectId\": \"p-yh0gano2qax2\"\n",
      "  },\n",
      "  {\n",
      "    \"ProjectName\": \"step4-build-model\",\n",
      "    \"ProjectId\": \"p-82bb0rqxd46j\"\n",
      "  },\n",
      "  {\n",
      "    \"ProjectName\": \"s3-fs-ingest-06-19-30-11\",\n",
      "    \"ProjectId\": \"p-iwfgodxukuoo\"\n",
      "  },\n",
      "  {\n",
      "    \"ProjectName\": \"MLOps-demo-2022\",\n",
      "    \"ProjectId\": \"p-mf8uanujx8tn\"\n",
      "  }\n",
      "]\n"
     ]
    }
   ],
   "source": [
    "# Get all projects created by the current domain\n",
    "projects = [\n",
    "    {\"ProjectName\":p[\"ProjectName\"], \"ProjectId\":p[\"ProjectId\"]} for p in sm.list_projects(MaxResults=100, SortBy=\"CreationTime\")[\"ProjectSummaryList\"] \n",
    "        if sm.describe_project(ProjectName=p[\"ProjectName\"])[\"CreatedBy\"][\"DomainId\"] == domain_id and p[\"ProjectStatus\"] == \"CreateCompleted\"\n",
    "]\n",
    "\n",
    "print(f\"These projects have been created by domain {domain_id}: {json.dumps(projects, indent=2)}\")"
   ]
  },
  {
   "cell_type": "code",
   "execution_count": null,
   "id": "89aaca09-cf00-45f1-a5d8-3f246d475af0",
   "metadata": {},
   "outputs": [],
   "source": [
    "# Select projects to be deleted\n",
    "projects_to_delete = []\n",
    "\n",
    "for p in projects:\n",
    "    print(f\"Are you sure you want to delete this project: {p['ProjectName']}? (y/n)\")\n",
    "    choice = input()\n",
    "    if choice == 'y':\n",
    "        projects_to_delete.append(p)\n",
    "        \n",
    "print(f\"***************************************\")\n",
    "print(f\"The following projects will be deleted:\\n{json.dumps(projects_to_delete, indent=2)}\")\n",
    "print(f\"***************************************\")"
   ]
  },
  {
   "cell_type": "code",
   "execution_count": 17,
   "id": "9d0219ff-79a2-4b39-b9e6-7b31e5af8e39",
   "metadata": {},
   "outputs": [],
   "source": [
    "for p in projects_to_delete:\n",
    "    try:\n",
    "        print(f\"Deleting project {p['ProjectName']}:{sm.delete_project(ProjectName=p['ProjectName'])}\")\n",
    "    except Exception:\n",
    "        pass"
   ]
  },
  {
   "cell_type": "markdown",
   "id": "fa4df89c-5a32-48f5-9fe3-8222f6726c5f",
   "metadata": {},
   "source": [
    "## Delete CloudFormation stacks\n",
    "This section deletes the AWS CloudFormation stacks that projects created"
   ]
  },
  {
   "cell_type": "code",
   "execution_count": 25,
   "id": "8bd2e655-ace1-4324-8fc9-3602fb6f66b4",
   "metadata": {},
   "outputs": [],
   "source": [
    "cfn = boto3.client(\"cloudformation\")\n",
    "\n",
    "for p in projects_to_delete:\n",
    "    for s in [\n",
    "            f\"sagemaker-{p['ProjectName']}-{p['ProjectId']}-deploy-staging\",\n",
    "            f\"sagemaker-{p['ProjectName']}-{p['ProjectId']}-deploy-prod\"\n",
    "            ]:\n",
    "        try:\n",
    "            print(f\"Delete CloudFormation stack: {s}\")\n",
    "            r = cfn.delete_stack(StackName=s)\n",
    "            print(r)\n",
    "            time.sleep(180)\n",
    "        except Exception:\n",
    "            print(f\"Exception in deleting {s}\")\n",
    "            pass"
   ]
  },
  {
   "cell_type": "markdown",
   "id": "c13a5843-9403-4e97-9eed-8c1a65d13cd0",
   "metadata": {},
   "source": [
    "## Remove inference endpoints"
   ]
  },
  {
   "cell_type": "markdown",
   "id": "8a789493-9f4f-4166-af29-e7c9c7bc0dfa",
   "metadata": {},
   "source": [
    "## Delete feature groups"
   ]
  },
  {
   "cell_type": "code",
   "execution_count": 8,
   "id": "0b5a4915-a93e-4aff-a49e-e7d03c4e4066",
   "metadata": {},
   "outputs": [],
   "source": [
    "feature_groups = sm.list_feature_groups(\n",
    "    FeatureGroupStatusEquals=\"Created\", \n",
    "    SortOrder=\"Descending\", \n",
    "    SortBy=\"CreationTime\"\n",
    ")[\"FeatureGroupSummaries\"]"
   ]
  },
  {
   "cell_type": "code",
   "execution_count": 9,
   "id": "e5828c1d-3e23-4901-a2db-e06c339a063c",
   "metadata": {},
   "outputs": [
    {
     "data": {
      "text/plain": [
       "[{'FeatureGroupName': 'fscw-orders-07-20-17-46',\n",
       "  'FeatureGroupArn': 'arn:aws:sagemaker:us-east-1:906545278380:feature-group/fscw-orders-07-20-17-46',\n",
       "  'CreationTime': datetime.datetime(2022, 7, 20, 17, 54, 12, 176000, tzinfo=tzlocal()),\n",
       "  'FeatureGroupStatus': 'Created',\n",
       "  'OfflineStoreStatus': {'Status': 'Active'}},\n",
       " {'FeatureGroupName': 'fscw-products-07-20-17-46',\n",
       "  'FeatureGroupArn': 'arn:aws:sagemaker:us-east-1:906545278380:feature-group/fscw-products-07-20-17-46',\n",
       "  'CreationTime': datetime.datetime(2022, 7, 20, 17, 47, 10, 427000, tzinfo=tzlocal()),\n",
       "  'FeatureGroupStatus': 'Created',\n",
       "  'OfflineStoreStatus': {'Status': 'Active'}},\n",
       " {'FeatureGroupName': 'fscw-customers-07-20-17-46',\n",
       "  'FeatureGroupArn': 'arn:aws:sagemaker:us-east-1:906545278380:feature-group/fscw-customers-07-20-17-46',\n",
       "  'CreationTime': datetime.datetime(2022, 7, 20, 17, 46, 38, 715000, tzinfo=tzlocal()),\n",
       "  'FeatureGroupStatus': 'Created',\n",
       "  'OfflineStoreStatus': {'Status': 'Active'}},\n",
       " {'FeatureGroupName': 'transaction-feature-group-16-13-25-49',\n",
       "  'FeatureGroupArn': 'arn:aws:sagemaker:us-east-1:906545278380:feature-group/transaction-feature-group-16-13-25-49',\n",
       "  'CreationTime': datetime.datetime(2022, 2, 16, 13, 27, 26, 732000, tzinfo=tzlocal()),\n",
       "  'FeatureGroupStatus': 'Created',\n",
       "  'OfflineStoreStatus': {'Status': 'Active'}},\n",
       " {'FeatureGroupName': 'identity-feature-group-16-13-25-49',\n",
       "  'FeatureGroupArn': 'arn:aws:sagemaker:us-east-1:906545278380:feature-group/identity-feature-group-16-13-25-49',\n",
       "  'CreationTime': datetime.datetime(2022, 2, 16, 13, 27, 26, 237000, tzinfo=tzlocal()),\n",
       "  'FeatureGroupStatus': 'Created',\n",
       "  'OfflineStoreStatus': {'Status': 'Active'}},\n",
       " {'FeatureGroupName': 'FG-abalone-06-19-27-51-42ea2f48',\n",
       "  'FeatureGroupArn': 'arn:aws:sagemaker:us-east-1:906545278380:feature-group/fg-abalone-06-19-27-51-42ea2f48',\n",
       "  'CreationTime': datetime.datetime(2022, 2, 6, 19, 28, 20, 402000, tzinfo=tzlocal()),\n",
       "  'FeatureGroupStatus': 'Created'},\n",
       " {'FeatureGroupName': 'test-fs-lf',\n",
       "  'FeatureGroupArn': 'arn:aws:sagemaker:us-east-1:906545278380:feature-group/test-fs-lf',\n",
       "  'CreationTime': datetime.datetime(2022, 1, 31, 14, 12, 16, 760000, tzinfo=tzlocal()),\n",
       "  'FeatureGroupStatus': 'Created'},\n",
       " {'FeatureGroupName': 'test-fs-lake-formation',\n",
       "  'FeatureGroupArn': 'arn:aws:sagemaker:us-east-1:906545278380:feature-group/test-fs-lake-formation',\n",
       "  'CreationTime': datetime.datetime(2022, 1, 31, 14, 7, 23, 722000, tzinfo=tzlocal()),\n",
       "  'FeatureGroupStatus': 'Created'},\n",
       " {'FeatureGroupName': 'test-fs-data',\n",
       "  'FeatureGroupArn': 'arn:aws:sagemaker:us-east-1:906545278380:feature-group/test-fs-data',\n",
       "  'CreationTime': datetime.datetime(2022, 1, 12, 16, 11, 16, 730000, tzinfo=tzlocal()),\n",
       "  'FeatureGroupStatus': 'Created'},\n",
       " {'FeatureGroupName': 'test-fs-data-catalog',\n",
       "  'FeatureGroupArn': 'arn:aws:sagemaker:us-east-1:906545278380:feature-group/test-fs-data-catalog',\n",
       "  'CreationTime': datetime.datetime(2022, 1, 12, 16, 3, 39, 757000, tzinfo=tzlocal()),\n",
       "  'FeatureGroupStatus': 'Created'}]"
      ]
     },
     "execution_count": 9,
     "metadata": {},
     "output_type": "execute_result"
    }
   ],
   "source": [
    "feature_groups"
   ]
  },
  {
   "cell_type": "code",
   "execution_count": null,
   "id": "7687f016-af8b-405f-ae56-fe5ed7e9d9c0",
   "metadata": {},
   "outputs": [],
   "source": [
    "# Select feature groups to be deleted\n",
    "feature_groups_to_delete = []\n",
    "\n",
    "for fg in feature_groups:\n",
    "    print(f\"Are you sure you want to delete this feature group: {fg['FeatureGroupName']}? (y/n)\")\n",
    "    choice = input()\n",
    "    if choice == 'y':\n",
    "        feature_groups_to_delete.append(fg[\"FeatureGroupName\"])\n",
    "        \n",
    "print(f\"********************************************\")\n",
    "print(f\"The following feature groups will be deleted:\\n{json.dumps(feature_groups_to_delete, indent=2)}\")\n",
    "print(f\"********************************************\")"
   ]
  },
  {
   "cell_type": "code",
   "execution_count": 11,
   "id": "8ecee078-f3be-43eb-abcc-84bf19ec613d",
   "metadata": {},
   "outputs": [],
   "source": [
    "def delete_offline_store(feature_group_name: str):\n",
    "    try:\n",
    "        offline_store_config = sm.describe_feature_group(FeatureGroupName=feature_group_name)['OfflineStoreConfig']\n",
    "\n",
    "    except Exception:\n",
    "        print(f'Feature group: {feature_group_name} does NOT have an offline store!')\n",
    "        return\n",
    "    \n",
    "    offline_store_s3_uri = offline_store_config['S3StorageConfig']['ResolvedOutputS3Uri']\n",
    "    print(f\"all feature store objects under {offline_store_s3_uri} will be deleted!\")\n",
    "    print(\"Are you sure you want to these objects ? (y/n)\")\n",
    "    \n",
    "    choice = input()\n",
    "    if choice == 'y':\n",
    "        !aws s3 rm {offline_store_s3_uri} --recursive"
   ]
  },
  {
   "cell_type": "markdown",
   "id": "8c671f1b-0505-4869-bf8c-a67b1bc43b76",
   "metadata": {},
   "source": [
    "<div class=\"alert alert-info\"> 💡 <strong> The following code cell will delete the selected feature groups!</strong>\n",
    "</div>"
   ]
  },
  {
   "cell_type": "code",
   "execution_count": 12,
   "id": "63232110-e584-441a-a222-14a8a33607f9",
   "metadata": {},
   "outputs": [],
   "source": [
    "for fg in feature_groups_to_delete:\n",
    "    print(f\"Deleting the feature group: {fg}\")\n",
    "    delete_offline_store(fg)\n",
    "    sm.delete_feature_group(FeatureGroupName=fg)"
   ]
  },
  {
   "cell_type": "markdown",
   "id": "1ec40f0d-4117-46f4-9580-325e560c3bfc",
   "metadata": {},
   "source": [
    "## Delete project-provisioned S3 buckets"
   ]
  },
  {
   "cell_type": "markdown",
   "id": "2ab7f9da-0a6e-47dd-8fdd-eabce5eab3c0",
   "metadata": {},
   "source": [
    "<div class=\"alert alert-info\"> 💡 <strong> The following code cell will delete all S3 buckets created by a project!</strong>\n",
    "</div>"
   ]
  },
  {
   "cell_type": "code",
   "execution_count": 18,
   "id": "e3c4cecd-5577-41c2-8852-70a47b537456",
   "metadata": {},
   "outputs": [
    {
     "name": "stdout",
     "output_type": "stream",
     "text": [
      "*****************************************************\n",
      "The following S3 buckets will be removed permanently!\n",
      "*****************************************************\n"
     ]
    }
   ],
   "source": [
    "print(f\"*****************************************************\")\n",
    "print(f\"The following S3 buckets will be removed permanently!\")\n",
    "print(f\"*****************************************************\")\n",
    "for p in projects_to_delete:\n",
    "    print(f\"sagemaker-project-{p['ProjectId']}\")"
   ]
  },
  {
   "cell_type": "code",
   "execution_count": 19,
   "id": "1a3b12f9-7ebe-49e5-b2c3-00e5492d471c",
   "metadata": {},
   "outputs": [],
   "source": [
    "for p in projects_to_delete:\n",
    "    !aws s3 rb s3://sagemaker-project-{p['ProjectId']} --force "
   ]
  },
  {
   "cell_type": "markdown",
   "id": "25a3796c-5f4b-4ded-afff-56f93ceea76c",
   "metadata": {},
   "source": [
    "## Remove project-related objects from S3 data bucket"
   ]
  },
  {
   "cell_type": "markdown",
   "id": "2d0855e6-d12c-4306-9487-9123ba2faaae",
   "metadata": {},
   "source": [
    "<div class=\"alert alert-info\"> 💡 <strong> The following code cells will delete all objects under specified S3 prefixes!</strong>\n",
    "</div>"
   ]
  },
  {
   "cell_type": "code",
   "execution_count": 21,
   "id": "4607415d-50f9-4254-9e5e-2eab01153478",
   "metadata": {},
   "outputs": [],
   "source": [
    "prefixes_to_delete = [\n",
    "    bucket_prefix,\n",
    "    #s3_fs_query_output_prefix\n",
    "]"
   ]
  },
  {
   "cell_type": "code",
   "execution_count": 23,
   "id": "d8469318-1a62-42a9-b8cb-577aeabfb8d9",
   "metadata": {},
   "outputs": [
    {
     "name": "stdout",
     "output_type": "stream",
     "text": [
      "************************************************************************\n",
      "All objects under the following S3 prefixes will be removed permanently!\n",
      "************************************************************************\n",
      "sagemaker-us-east-1-906545278380/from-idea-to-prod/xgboost\n"
     ]
    }
   ],
   "source": [
    "print(f\"************************************************************************\")\n",
    "print(f\"All objects under the following S3 prefixes will be removed permanently!\")\n",
    "print(f\"************************************************************************\")\n",
    "for p in prefixes_to_delete:\n",
    "    print(f\"{bucket_name}/{p}\")"
   ]
  },
  {
   "cell_type": "markdown",
   "id": "d7b3d7c5-cf63-4182-a2d6-5c1a592b1c0a",
   "metadata": {},
   "source": [
    "<div class=\"alert alert-info\"> ❗ <strong> Double check the S3 prefix! All data under this prefix will be permanently deleted!</strong>\n",
    "</div>"
   ]
  },
  {
   "cell_type": "code",
   "execution_count": null,
   "id": "832f07d7-83e8-478d-ae0e-895933efae50",
   "metadata": {},
   "outputs": [],
   "source": [
    "# Un-comment the rm command\n",
    "for p in prefixes_to_delete:\n",
    "#   !aws s3 rm s3://{bucket_name}/{p} --recursive"
   ]
  },
  {
   "cell_type": "markdown",
   "id": "a5e0fa4b-d598-4319-b621-58f0dc98ddb1",
   "metadata": {},
   "source": [
    "# Shutdown kernel"
   ]
  },
  {
   "cell_type": "code",
   "execution_count": null,
   "id": "c2c5e3ab-8c56-40ff-be8e-66c8dd3378cd",
   "metadata": {},
   "outputs": [],
   "source": [
    "%%html\n",
    "\n",
    "<p><b>Shutting down your kernel for this notebook to release resources.</b></p>\n",
    "<button class=\"sm-command-button\" data-commandlinker-command=\"kernelmenu:shutdown\" style=\"display:none;\">Shutdown Kernel</button>\n",
    "        \n",
    "<script>\n",
    "try {\n",
    "    els = document.getElementsByClassName(\"sm-command-button\");\n",
    "    els[0].click();\n",
    "}\n",
    "catch(err) {\n",
    "    // NoOp\n",
    "}    \n",
    "</script>"
   ]
  }
 ],
 "metadata": {
  "instance_type": "ml.t3.medium",
  "kernelspec": {
   "display_name": "Python 3 (Data Science)",
   "language": "python",
   "name": "python3__SAGEMAKER_INTERNAL__arn:aws:sagemaker:us-east-1:081325390199:image/datascience-1.0"
  },
  "language_info": {
   "codemirror_mode": {
    "name": "ipython",
    "version": 3
   },
   "file_extension": ".py",
   "mimetype": "text/x-python",
   "name": "python",
   "nbconvert_exporter": "python",
   "pygments_lexer": "ipython3",
   "version": "3.7.10"
  }
 },
 "nbformat": 4,
 "nbformat_minor": 5
}
